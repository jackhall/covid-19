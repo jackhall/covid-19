{
 "cells": [
  {
   "cell_type": "markdown",
   "metadata": {},
   "source": [
    "Intro\n",
    "-----\n",
    "\n",
    "The first thing to understand about Covid-19 is the basic math that describes its spread.\n",
    "Which numbers are pertinent, and why, and how are they related?"
   ]
  },
  {
   "cell_type": "markdown",
   "metadata": {},
   "source": [
    "Number of Sick People\n",
    "---------------------\n",
    "\n",
    "This number is quite difficult to estimate, but it's what everyone wants to know."
   ]
  },
  {
   "cell_type": "markdown",
   "metadata": {},
   "source": [
    "Case Counts\n",
    "-----------\n",
    "\n",
    "The total number of cases *reported* in a region since the outbreak began. \n",
    "This is the most commonly reported number, but it can easily mislead. \n",
    "\n",
    "First, most people recover but stay included in the case counts; thus case counts do not tell us how many people are currently sick. \n",
    "Second, roughly 20% of US citizens lack health insurance and are unlikely to get diagnosed and counted. \n",
    "Because that 20% is not evenly distributed through society, regions and localities with poorer citizens will likely have artificially low case counts.\n",
    "Third, cases are often only counted if they are confirmed by lab test, but testing capacity...\n",
    "- is low (in the US at least), lowering case counts\n",
    "- increases over time, raising case counts as a function of time\n",
    "- varies by region and community, so we cannot reliably compare case counts\n",
    "\n",
    "To sum up: a case count looks to the average person like a number of sick people, but it isn't. "
   ]
  },
  {
   "cell_type": "code",
   "execution_count": null,
   "metadata": {},
   "outputs": [],
   "source": []
  }
 ],
 "metadata": {
  "kernelspec": {
   "display_name": "Python 3",
   "language": "python",
   "name": "python3"
  },
  "language_info": {
   "codemirror_mode": {
    "name": "ipython",
    "version": 3
   },
   "file_extension": ".py",
   "mimetype": "text/x-python",
   "name": "python",
   "nbconvert_exporter": "python",
   "pygments_lexer": "ipython3",
   "version": "3.8.2"
  }
 },
 "nbformat": 4,
 "nbformat_minor": 4
}
